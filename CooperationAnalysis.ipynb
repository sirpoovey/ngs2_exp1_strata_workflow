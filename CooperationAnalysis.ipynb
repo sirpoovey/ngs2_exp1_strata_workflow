{
 "cells": [
  {
   "cell_type": "markdown",
   "metadata": {},
   "source": [
    "# Rand 2011 Cooperation Study\n",
    "\n",
    "This notebook outlines how to recreate the analysis of the Rand et al. 2011 study **\"Dynamic social networks promote cooperation in experiments with humans\"** [Link to Paper](http://humannaturelab.net/wp-content/uploads/2014/10/126-Dynamic-Social-Networks-Promote-Cooperation-in-Experiments-with-Humans.pdf \"Full PDF\")\n",
    "\n",
    "This outlines the steps to re-create the analysis using the publicly available data published in the paper.  This requires either a local or remote copy of Bedrock with the following Opals installed:\n",
    "\n",
    "* [Spreadsheet](https://github.com/Bedrock-py/opal-dataloader-ingest-spreadsheet)\n",
    "* [logit2](https://github.com/Bedrock-py/opal-analytics-logit2)\n",
    "* [select-from-dataframe](https://github.com/Bedrock-py/opal-analytics-select-from-dataframe)\n",
    "* [summarize](https://github.com/Bedrock-py/opal-analytics-summarize)\n",
    "\n",
    "This notebook also requires that bedrock-core be installed locally into the python kernel running this notebook.  This can be installed via command line using:\n",
    "\n",
    "`pip install git+https://github.com/Bedrock-py/bedrock-core.git`\n",
    "\n",
    "The other requirements to run this notebook are:\n",
    "\n",
    "* [`pandas`]()"
   ]
  },
  {
   "cell_type": "markdown",
   "metadata": {},
   "source": [
    "## Step 1: Check Environment"
   ]
  },
  {
   "cell_type": "markdown",
   "metadata": {},
   "source": [
    "First check that Bedrock is installed locally.  If the following cell does not run without error, check the install procedure above and try again.  Also, ensure that the kernel selected is the same as the kernel where bedrock-core is installed"
   ]
  },
  {
   "cell_type": "code",
   "execution_count": 1,
   "metadata": {
    "collapsed": false
   },
   "outputs": [],
   "source": [
    "from bedrock.client.client import BedrockAPI"
   ]
  },
  {
   "cell_type": "markdown",
   "metadata": {},
   "source": [
    "### Test Connection to Bedrock Server\n",
    "\n",
    "This code assumes a local bedrock is hosted at localhost on port 81.  Change the `SERVER` variable to match your server's URL and port."
   ]
  },
  {
   "cell_type": "code",
   "execution_count": 2,
   "metadata": {
    "collapsed": false
   },
   "outputs": [],
   "source": [
    "import requests\n",
    "import pandas\n",
    "import pprint\n",
    "SERVER = \"http://localhost:81/\"\n",
    "api = BedrockAPI(SERVER)"
   ]
  },
  {
   "cell_type": "markdown",
   "metadata": {},
   "source": [
    "### Check for Spreadsheet Opal\n",
    "\n",
    "The following code block checks the Bedrock server for the Spreadsheet Opal.  This Opal is used to load .csv, .xls, and other such files into a Bedrock matrix format.  The code below calls the Bedrock `/dataloaders/ingest` endpoint to check if the `opals.spreadsheet.Spreadsheet.Spreadsheet` opal is installed.\n",
    "\n",
    "If the code below shows the Opal is not installed, there are two options:\n",
    "1. If you are running a local Bedrock or are the administrator of the Bedrock server, install the Spreadsheet Opal with pip on the server [Spreadsheet](https://github.com/Bedrock-py/opal-dataloader-ingest-spreadsheet)\n",
    "2. If you are not administrator of the Bedrock server, e-mail the Bedrock administrator requesting the Opal be installed"
   ]
  },
  {
   "cell_type": "code",
   "execution_count": 3,
   "metadata": {
    "collapsed": false
   },
   "outputs": [
    {
     "name": "stdout",
     "output_type": "stream",
     "text": [
      "Spreadsheet Opal Installed!\n"
     ]
    }
   ],
   "source": [
    "resp = api.ingest(\"opals.spreadsheet.Spreadsheet.Spreadsheet\")\n",
    "if resp.json():\n",
    "    print(\"Spreadsheet Opal Installed!\")\n",
    "else:\n",
    "    print(\"Spreadsheet Opal Not Installed!\")"
   ]
  },
  {
   "cell_type": "markdown",
   "metadata": {},
   "source": [
    "### Check for logit2 Opal\n",
    "\n",
    "The following code block checks the Bedrock server for the logit2 Opal. \n",
    "\n",
    "If the code below shows the Opal is not installed, there are two options:\n",
    "1. If you are running a local Bedrock or are the administrator of the Bedrock server, install the logit2 Opal with pip on the server [logit2](https://github.com/Bedrock-py/opal-analytics-logit2)\n",
    "2. If you are not administrator of the Bedrock server, e-mail the Bedrock administrator requesting the Opal be installed"
   ]
  },
  {
   "cell_type": "code",
   "execution_count": 4,
   "metadata": {
    "collapsed": false
   },
   "outputs": [
    {
     "name": "stdout",
     "output_type": "stream",
     "text": [
      "Logit2 Opal Installed!\n"
     ]
    }
   ],
   "source": [
    "resp = api.analytic('opals.logit2.Logit2.Logit2')\n",
    "if resp.json():\n",
    "    print(\"Logit2 Opal Installed!\")\n",
    "else:\n",
    "    print(\"Logit2 Opal Not Installed!\")"
   ]
  },
  {
   "cell_type": "markdown",
   "metadata": {},
   "source": [
    "### Check for select-from-dataframe Opal\n",
    "\n",
    "The following code block checks the Bedrock server for the select-from-dataframe Opal. This allows you to filter by row and reduce the columns in a dataframe loaded by the server. \n",
    "\n",
    "If the code below shows the Opal is not installed, there are two options:\n",
    "1. If you are running a local Bedrock or are the administrator of the Bedrock server, install the select-from-datafram Opal with pip on the server [select-from-dataframe](https://github.com/Bedrock-py/opal-analytics-select-from-dataframe)\n",
    "2. If you are not administrator of the Bedrock server, e-mail the Bedrock administrator requesting the Opal be installed"
   ]
  },
  {
   "cell_type": "code",
   "execution_count": 5,
   "metadata": {
    "collapsed": false
   },
   "outputs": [
    {
     "name": "stdout",
     "output_type": "stream",
     "text": [
      "Select-from-dataframe Opal Installed!\n"
     ]
    }
   ],
   "source": [
    "resp = api.analytic('opals.select-from-dataframe.SelectByCondition.SelectByCondition')\n",
    "if resp.json():\n",
    "    print(\"Select-from-dataframe Opal Installed!\")\n",
    "else:\n",
    "    print(\"Select-from-dataframe Opal Not Installed!\")"
   ]
  },
  {
   "cell_type": "markdown",
   "metadata": {},
   "source": [
    "### Check for summarize Opal\n",
    "\n",
    "The following code block checks the Bedrock server for the summarize Opal. This allows you to summarize a matrix with an optional groupby clause.\n",
    "\n",
    "If the code below shows the Opal is not installed, there are two options:\n",
    "1. If you are running a local Bedrock or are the administrator of the Bedrock server, install the summarize with pip on the server [summarize](https://github.com/Bedrock-py/opal-analytics-summarize)\n",
    "2. If you are not administrator of the Bedrock server, e-mail the Bedrock administrator requesting the Opal be installed"
   ]
  },
  {
   "cell_type": "code",
   "execution_count": 6,
   "metadata": {
    "collapsed": false
   },
   "outputs": [
    {
     "name": "stdout",
     "output_type": "stream",
     "text": [
      "Summarize Opal Installed!\n"
     ]
    }
   ],
   "source": [
    "resp = api.analytic('opals.summarize.Summarize.Summarize')\n",
    "if resp.json():\n",
    "    print(\"Summarize Opal Installed!\")\n",
    "else:\n",
    "    print(\"Summarize Opal Not Installed!\")"
   ]
  },
  {
   "cell_type": "markdown",
   "metadata": {},
   "source": [
    "## Step 2: Upload Data to Bedrock and Create Matrix\n",
    "\n",
    "Now that everything is installed, begin the workflow by uploading the csv data and creating a matrix.  To understand this fully, it is useful to understand how a data loading workflow occurs in Bedrock.\n",
    "\n",
    "1. Create a datasource that points to the original source file\n",
    "2. Generate a matrix from the data source (filters can be applied during this step to pre-filter the data source on load\n",
    "3. Analytics work on the generated matrix\n",
    "\n",
    "** Note: Each time a matrix is generated from a data source it will create a new copy with a new UUID to represent that matrix **"
   ]
  },
  {
   "cell_type": "markdown",
   "metadata": {},
   "source": [
    "### Check for csv file locally\n",
    "\n",
    "The following code opens the file and prints out the first part.  The file must be a csv file with a header that has labels for each column.  The file is comma delimited csv."
   ]
  },
  {
   "cell_type": "code",
   "execution_count": 22,
   "metadata": {
    "collapsed": false
   },
   "outputs": [
    {
     "data": {
      "text/html": [
       "<div>\n",
       "<table border=\"1\" class=\"dataframe\">\n",
       "  <thead>\n",
       "    <tr style=\"text-align: right;\">\n",
       "      <th></th>\n",
       "      <th>entry</th>\n",
       "      <th>session</th>\n",
       "      <th>condition</th>\n",
       "      <th>pid</th>\n",
       "      <th>action</th>\n",
       "      <th>previous_decision</th>\n",
       "      <th>round</th>\n",
       "      <th>num_neighbors</th>\n",
       "      <th>group_size</th>\n",
       "      <th>fluid_dummy</th>\n",
       "    </tr>\n",
       "  </thead>\n",
       "  <tbody>\n",
       "    <tr>\n",
       "      <th>0</th>\n",
       "      <td>1</td>\n",
       "      <td>1</td>\n",
       "      <td>Static</td>\n",
       "      <td>143</td>\n",
       "      <td>0</td>\n",
       "      <td>NaN</td>\n",
       "      <td>1</td>\n",
       "      <td>5</td>\n",
       "      <td>32</td>\n",
       "      <td>0</td>\n",
       "    </tr>\n",
       "    <tr>\n",
       "      <th>1</th>\n",
       "      <td>2</td>\n",
       "      <td>1</td>\n",
       "      <td>Static</td>\n",
       "      <td>144</td>\n",
       "      <td>0</td>\n",
       "      <td>NaN</td>\n",
       "      <td>1</td>\n",
       "      <td>11</td>\n",
       "      <td>32</td>\n",
       "      <td>0</td>\n",
       "    </tr>\n",
       "    <tr>\n",
       "      <th>2</th>\n",
       "      <td>3</td>\n",
       "      <td>1</td>\n",
       "      <td>Static</td>\n",
       "      <td>113</td>\n",
       "      <td>0</td>\n",
       "      <td>NaN</td>\n",
       "      <td>1</td>\n",
       "      <td>3</td>\n",
       "      <td>32</td>\n",
       "      <td>0</td>\n",
       "    </tr>\n",
       "    <tr>\n",
       "      <th>3</th>\n",
       "      <td>4</td>\n",
       "      <td>1</td>\n",
       "      <td>Static</td>\n",
       "      <td>105</td>\n",
       "      <td>0</td>\n",
       "      <td>NaN</td>\n",
       "      <td>1</td>\n",
       "      <td>7</td>\n",
       "      <td>32</td>\n",
       "      <td>0</td>\n",
       "    </tr>\n",
       "    <tr>\n",
       "      <th>4</th>\n",
       "      <td>5</td>\n",
       "      <td>1</td>\n",
       "      <td>Static</td>\n",
       "      <td>107</td>\n",
       "      <td>1</td>\n",
       "      <td>NaN</td>\n",
       "      <td>1</td>\n",
       "      <td>6</td>\n",
       "      <td>32</td>\n",
       "      <td>0</td>\n",
       "    </tr>\n",
       "    <tr>\n",
       "      <th>5</th>\n",
       "      <td>6</td>\n",
       "      <td>1</td>\n",
       "      <td>Static</td>\n",
       "      <td>111</td>\n",
       "      <td>1</td>\n",
       "      <td>NaN</td>\n",
       "      <td>1</td>\n",
       "      <td>2</td>\n",
       "      <td>32</td>\n",
       "      <td>0</td>\n",
       "    </tr>\n",
       "    <tr>\n",
       "      <th>6</th>\n",
       "      <td>7</td>\n",
       "      <td>1</td>\n",
       "      <td>Static</td>\n",
       "      <td>121</td>\n",
       "      <td>1</td>\n",
       "      <td>NaN</td>\n",
       "      <td>1</td>\n",
       "      <td>1</td>\n",
       "      <td>32</td>\n",
       "      <td>0</td>\n",
       "    </tr>\n",
       "    <tr>\n",
       "      <th>7</th>\n",
       "      <td>8</td>\n",
       "      <td>1</td>\n",
       "      <td>Static</td>\n",
       "      <td>112</td>\n",
       "      <td>0</td>\n",
       "      <td>NaN</td>\n",
       "      <td>1</td>\n",
       "      <td>4</td>\n",
       "      <td>32</td>\n",
       "      <td>0</td>\n",
       "    </tr>\n",
       "    <tr>\n",
       "      <th>8</th>\n",
       "      <td>9</td>\n",
       "      <td>1</td>\n",
       "      <td>Static</td>\n",
       "      <td>109</td>\n",
       "      <td>0</td>\n",
       "      <td>NaN</td>\n",
       "      <td>1</td>\n",
       "      <td>5</td>\n",
       "      <td>32</td>\n",
       "      <td>0</td>\n",
       "    </tr>\n",
       "    <tr>\n",
       "      <th>9</th>\n",
       "      <td>10</td>\n",
       "      <td>1</td>\n",
       "      <td>Static</td>\n",
       "      <td>137</td>\n",
       "      <td>1</td>\n",
       "      <td>NaN</td>\n",
       "      <td>1</td>\n",
       "      <td>4</td>\n",
       "      <td>32</td>\n",
       "      <td>0</td>\n",
       "    </tr>\n",
       "  </tbody>\n",
       "</table>\n",
       "</div>"
      ],
      "text/plain": [
       "   entry  session condition  pid  action  previous_decision  round  \\\n",
       "0      1        1    Static  143       0                NaN      1   \n",
       "1      2        1    Static  144       0                NaN      1   \n",
       "2      3        1    Static  113       0                NaN      1   \n",
       "3      4        1    Static  105       0                NaN      1   \n",
       "4      5        1    Static  107       1                NaN      1   \n",
       "5      6        1    Static  111       1                NaN      1   \n",
       "6      7        1    Static  121       1                NaN      1   \n",
       "7      8        1    Static  112       0                NaN      1   \n",
       "8      9        1    Static  109       0                NaN      1   \n",
       "9     10        1    Static  137       1                NaN      1   \n",
       "\n",
       "   num_neighbors  group_size  fluid_dummy  \n",
       "0              5          32            0  \n",
       "1             11          32            0  \n",
       "2              3          32            0  \n",
       "3              7          32            0  \n",
       "4              6          32            0  \n",
       "5              2          32            0  \n",
       "6              1          32            0  \n",
       "7              4          32            0  \n",
       "8              5          32            0  \n",
       "9              4          32            0  "
      ]
     },
     "execution_count": 22,
     "metadata": {},
     "output_type": "execute_result"
    }
   ],
   "source": [
    "filepath = 'cooperation_exp1.csv'\n",
    "datafile = pandas.read_csv(filepath)\n",
    "datafile.head(10)"
   ]
  },
  {
   "cell_type": "markdown",
   "metadata": {},
   "source": [
    "### Now Upload the source file to the Bedrock Server\n",
    "\n",
    "This code block uses the Spreadsheet ingest module to upload the source file to Bedrock.  ** Note: This simply copies the file to the server, but does not create a Bedrock Matrix format **\n",
    "\n",
    "If the following fails to upload. Check that the csv file is in the correct comma delimited format with headers."
   ]
  },
  {
   "cell_type": "code",
   "execution_count": 23,
   "metadata": {
    "collapsed": false,
    "deletable": true,
    "editable": true
   },
   "outputs": [
    {
     "name": "stdout",
     "output_type": "stream",
     "text": [
      "Source cooperation_exp1.csv successfully uploaded\n"
     ]
    }
   ],
   "source": [
    "ingest_id = 'opals.spreadsheet.Spreadsheet.Spreadsheet'\n",
    "resp = api.put_source('cooperation_exp1', ingest_id, 'default', {'file': open(filepath, \"rb\")})\n",
    "\n",
    "if resp.status_code == 201:\n",
    "    source_id = resp.json()['src_id']\n",
    "    print('Source {0} successfully uploaded'.format(filepath))\n",
    "else:\n",
    "    try:\n",
    "        print(\"Error in Upload: {}\".format(resp.json()['msg']))\n",
    "    except Exception:\n",
    "        pass\n",
    "    \n",
    "    try:\n",
    "        source_id = resp.json()['src_id']\n",
    "        print(\"Using existing source.  If this is not the desired behavior, upload with a different name.\")\n",
    "    except Exception:\n",
    "        print(\"No existing source id provided\")"
   ]
  },
  {
   "cell_type": "markdown",
   "metadata": {},
   "source": [
    "### Check available data sources for the CSV file\n",
    "\n",
    "Call the Bedrock sources list to see available data sources.  Note, that the `Rand2011` data source should now be available"
   ]
  },
  {
   "cell_type": "code",
   "execution_count": 24,
   "metadata": {
    "collapsed": false,
    "deletable": true,
    "editable": true,
    "scrolled": true
   },
   "outputs": [
    {
     "name": "stdout",
     "output_type": "stream",
     "text": [
      "{'count': 0,\n",
      " 'created': '2017-09-15 15:10:21.065777',\n",
      " 'filepath': '/opt/bedrock/dataloader/data/fd863481751a4f1b8ea0e6ac651e2ac1/source/cooperation_exp1.csv',\n",
      " 'group_name': 'default',\n",
      " 'host': '172.17.0.2',\n",
      " 'ingest_id': 'opals.spreadsheet.Spreadsheet.Spreadsheet',\n",
      " 'matrices': [],\n",
      " 'name': 'cooperation_exp1',\n",
      " 'rootdir': '/opt/bedrock/dataloader/data/fd863481751a4f1b8ea0e6ac651e2ac1/',\n",
      " 'src_id': 'fd863481751a4f1b8ea0e6ac651e2ac1',\n",
      " 'src_type': 'file',\n",
      " 'status': []}\n"
     ]
    }
   ],
   "source": [
    "available_sources = api.list(\"dataloader\", \"sources\").json()\n",
    "s = next(filter(lambda source: source['src_id'] == source_id, available_sources),'None')\n",
    "if s != 'None':\n",
    "    pp = pprint.PrettyPrinter()\n",
    "    pp.pprint(s)\n",
    "else:\n",
    "    print(\"Could not find source\")"
   ]
  },
  {
   "cell_type": "markdown",
   "metadata": {},
   "source": [
    "### Create a Bedrock Matrix from the CSV Source\n",
    "\n",
    "In order to use the data, the data source must be converted to a Bedrock matrix.  The following code steps through that process.  Here we are doing a simple transform of csv to matrix.  There are options to apply filters (like renaming columns, excluding colum"
   ]
  },
  {
   "cell_type": "code",
   "execution_count": 25,
   "metadata": {
    "collapsed": false,
    "deletable": true,
    "editable": true
   },
   "outputs": [
    {
     "name": "stdout",
     "output_type": "stream",
     "text": [
      "{'id': '54c2c347c3624745bacfec582a2997dc', 'created': '2017-09-15 15:10:25.714282', 'mat_type': 'csv', 'outputs': ['features_original.txt', 'features.txt', 'matrix.csv'], 'name': 'cooperation_exp1_mtx', 'filters': {'action': {}, 'num_neighbors': {}, 'round': {}, 'pid': {}, 'group_size': {}, 'session': {}, 'entry': {}, 'condition': {}, 'fluid_dummy': {}, 'previous_decision': {}}, 'rootdir': '/opt/bedrock/dataloader/data/fd863481751a4f1b8ea0e6ac651e2ac1/54c2c347c3624745bacfec582a2997dc/', 'src_id': 'fd863481751a4f1b8ea0e6ac651e2ac1'}\n"
     ]
    },
    {
     "data": {
      "text/plain": [
       "[{'created': '2017-09-15 15:10:25.714282',\n",
       "  'filters': {'action': {},\n",
       "   'condition': {},\n",
       "   'entry': {},\n",
       "   'fluid_dummy': {},\n",
       "   'group_size': {},\n",
       "   'num_neighbors': {},\n",
       "   'pid': {},\n",
       "   'previous_decision': {},\n",
       "   'round': {},\n",
       "   'session': {}},\n",
       "  'id': '54c2c347c3624745bacfec582a2997dc',\n",
       "  'mat_type': 'csv',\n",
       "  'name': 'cooperation_exp1_mtx',\n",
       "  'outputs': ['features_original.txt', 'features.txt', 'matrix.csv'],\n",
       "  'rootdir': '/opt/bedrock/dataloader/data/fd863481751a4f1b8ea0e6ac651e2ac1/54c2c347c3624745bacfec582a2997dc/',\n",
       "  'src_id': 'fd863481751a4f1b8ea0e6ac651e2ac1'}]"
      ]
     },
     "execution_count": 25,
     "metadata": {},
     "output_type": "execute_result"
    }
   ],
   "source": [
    "resp = api.create_matrix(source_id, 'cooperation_exp1_mtx')\n",
    "mtx = resp[0]\n",
    "matrix_id = mtx['id']\n",
    "print(mtx)\n",
    "resp"
   ]
  },
  {
   "cell_type": "markdown",
   "metadata": {},
   "source": [
    "### Look at basic statistics on the source data\n",
    "\n",
    "Here we can see that Bedrock has computed some basic statistics on the source data.\n",
    "\n",
    "#### For numeric data\n",
    "\n",
    "The quartiles, max, mean, min, and standard deviation are provided\n",
    "\n",
    "#### For non-numeric data\n",
    "\n",
    "The label values and counts for each label are provided.\n",
    "\n",
    "#### For both types\n",
    "\n",
    "The proposed tags and data type that Bedrock is suggesting are provided"
   ]
  },
  {
   "cell_type": "code",
   "execution_count": 26,
   "metadata": {
    "collapsed": false
   },
   "outputs": [
    {
     "data": {
      "text/html": [
       "<div>\n",
       "<table border=\"1\" class=\"dataframe\">\n",
       "  <thead>\n",
       "    <tr style=\"text-align: right;\">\n",
       "      <th></th>\n",
       "      <th>0</th>\n",
       "      <th>1</th>\n",
       "      <th>2</th>\n",
       "      <th>3</th>\n",
       "      <th>4</th>\n",
       "      <th>5</th>\n",
       "      <th>6</th>\n",
       "      <th>7</th>\n",
       "      <th>8</th>\n",
       "      <th>9</th>\n",
       "    </tr>\n",
       "  </thead>\n",
       "  <tbody>\n",
       "    <tr>\n",
       "      <th>0</th>\n",
       "      <td>NaN</td>\n",
       "      <td>entry</td>\n",
       "      <td>session</td>\n",
       "      <td>pid</td>\n",
       "      <td>action</td>\n",
       "      <td>previous_decision</td>\n",
       "      <td>round</td>\n",
       "      <td>num_neighbors</td>\n",
       "      <td>group_size</td>\n",
       "      <td>fluid_dummy</td>\n",
       "    </tr>\n",
       "    <tr>\n",
       "      <th>1</th>\n",
       "      <td>count</td>\n",
       "      <td>3876.0</td>\n",
       "      <td>3876.0</td>\n",
       "      <td>3876.0</td>\n",
       "      <td>3876.0</td>\n",
       "      <td>3091.0</td>\n",
       "      <td>3876.0</td>\n",
       "      <td>3876.0</td>\n",
       "      <td>3876.0</td>\n",
       "      <td>3876.0</td>\n",
       "    </tr>\n",
       "    <tr>\n",
       "      <th>2</th>\n",
       "      <td>mean</td>\n",
       "      <td>1938.5</td>\n",
       "      <td>21.8268833849</td>\n",
       "      <td>2196.08642931</td>\n",
       "      <td>0.532507739938</td>\n",
       "      <td>0.536072468457</td>\n",
       "      <td>3.86300309598</td>\n",
       "      <td>5.23942208462</td>\n",
       "      <td>20.1109391125</td>\n",
       "      <td>0.266769865841</td>\n",
       "    </tr>\n",
       "    <tr>\n",
       "      <th>3</th>\n",
       "      <td>std</td>\n",
       "      <td>1119.04914995</td>\n",
       "      <td>15.4079731245</td>\n",
       "      <td>1538.91902422</td>\n",
       "      <td>0.499006503227</td>\n",
       "      <td>0.49877776821</td>\n",
       "      <td>2.60690174006</td>\n",
       "      <td>3.30793050227</td>\n",
       "      <td>6.21864617943</td>\n",
       "      <td>0.442328139389</td>\n",
       "    </tr>\n",
       "    <tr>\n",
       "      <th>4</th>\n",
       "      <td>min</td>\n",
       "      <td>1.0</td>\n",
       "      <td>1.0</td>\n",
       "      <td>102.0</td>\n",
       "      <td>0.0</td>\n",
       "      <td>0.0</td>\n",
       "      <td>1.0</td>\n",
       "      <td>0.0</td>\n",
       "      <td>10.0</td>\n",
       "      <td>0.0</td>\n",
       "    </tr>\n",
       "    <tr>\n",
       "      <th>5</th>\n",
       "      <td>25%</td>\n",
       "      <td>969.75</td>\n",
       "      <td>9.0</td>\n",
       "      <td>918.0</td>\n",
       "      <td>0.0</td>\n",
       "      <td>0.0</td>\n",
       "      <td>2.0</td>\n",
       "      <td>3.0</td>\n",
       "      <td>15.0</td>\n",
       "      <td>0.0</td>\n",
       "    </tr>\n",
       "    <tr>\n",
       "      <th>6</th>\n",
       "      <td>50%</td>\n",
       "      <td>1938.5</td>\n",
       "      <td>19.0</td>\n",
       "      <td>1915.0</td>\n",
       "      <td>1.0</td>\n",
       "      <td>1.0</td>\n",
       "      <td>3.0</td>\n",
       "      <td>5.0</td>\n",
       "      <td>19.0</td>\n",
       "      <td>0.0</td>\n",
       "    </tr>\n",
       "    <tr>\n",
       "      <th>7</th>\n",
       "      <td>75%</td>\n",
       "      <td>2907.25</td>\n",
       "      <td>34.0</td>\n",
       "      <td>3407.25</td>\n",
       "      <td>1.0</td>\n",
       "      <td>1.0</td>\n",
       "      <td>5.0</td>\n",
       "      <td>7.0</td>\n",
       "      <td>25.0</td>\n",
       "      <td>1.0</td>\n",
       "    </tr>\n",
       "    <tr>\n",
       "      <th>8</th>\n",
       "      <td>max</td>\n",
       "      <td>3876.0</td>\n",
       "      <td>52.0</td>\n",
       "      <td>5240.0</td>\n",
       "      <td>1.0</td>\n",
       "      <td>1.0</td>\n",
       "      <td>11.0</td>\n",
       "      <td>18.0</td>\n",
       "      <td>33.0</td>\n",
       "      <td>1.0</td>\n",
       "    </tr>\n",
       "  </tbody>\n",
       "</table>\n",
       "</div>"
      ],
      "text/plain": [
       "       0              1              2              3               4  \\\n",
       "0    NaN          entry        session            pid          action   \n",
       "1  count         3876.0         3876.0         3876.0          3876.0   \n",
       "2   mean         1938.5  21.8268833849  2196.08642931  0.532507739938   \n",
       "3    std  1119.04914995  15.4079731245  1538.91902422  0.499006503227   \n",
       "4    min            1.0            1.0          102.0             0.0   \n",
       "5    25%         969.75            9.0          918.0             0.0   \n",
       "6    50%         1938.5           19.0         1915.0             1.0   \n",
       "7    75%        2907.25           34.0        3407.25             1.0   \n",
       "8    max         3876.0           52.0         5240.0             1.0   \n",
       "\n",
       "                   5              6              7              8  \\\n",
       "0  previous_decision          round  num_neighbors     group_size   \n",
       "1             3091.0         3876.0         3876.0         3876.0   \n",
       "2     0.536072468457  3.86300309598  5.23942208462  20.1109391125   \n",
       "3      0.49877776821  2.60690174006  3.30793050227  6.21864617943   \n",
       "4                0.0            1.0            0.0           10.0   \n",
       "5                0.0            2.0            3.0           15.0   \n",
       "6                1.0            3.0            5.0           19.0   \n",
       "7                1.0            5.0            7.0           25.0   \n",
       "8                1.0           11.0           18.0           33.0   \n",
       "\n",
       "                9  \n",
       "0     fluid_dummy  \n",
       "1          3876.0  \n",
       "2  0.266769865841  \n",
       "3  0.442328139389  \n",
       "4             0.0  \n",
       "5             0.0  \n",
       "6             0.0  \n",
       "7             1.0  \n",
       "8             1.0  "
      ]
     },
     "execution_count": 26,
     "metadata": {},
     "output_type": "execute_result"
    }
   ],
   "source": [
    "analytic_id = \"opals.summarize.Summarize.Summarize\"\n",
    "inputData = {\n",
    "    'matrix.csv': mtx,\n",
    "    'features.txt': mtx\n",
    "}\n",
    "\n",
    "paramsData = []\n",
    "\n",
    "summary_mtx = api.run_analytic(analytic_id, mtx, 'cooperation_exp1_summary', input_data=inputData, parameter_data=paramsData)\n",
    "output = api.download_results_matrix(matrix_id, summary_mtx['id'], 'matrix.csv')\n",
    "output"
   ]
  },
  {
   "cell_type": "markdown",
   "metadata": {},
   "source": [
    "## Step 3: Create Filtered Matrices on each Game Condition"
   ]
  },
  {
   "cell_type": "code",
   "execution_count": 33,
   "metadata": {
    "collapsed": false
   },
   "outputs": [
    {
     "data": {
      "text/plain": [
       "{'analytic_id': 'opals.select-from-dataframe.SelectByCondition.SelectByCondition',\n",
       " 'created': '2017-09-15 15:19:54.033339',\n",
       " 'id': '031fc8522616494395c75aa6e42156ee',\n",
       " 'name': 'cooperation_exp1_static',\n",
       " 'outputs': ['matrix.csv', 'features.txt'],\n",
       " 'parameters': [{'attrname': 'colname', 'value': 'condition'},\n",
       "  {'attrname': 'comparator', 'value': '=='},\n",
       "  {'attrname': 'value', 'value': 'Static'}],\n",
       " 'rootdir': '/opt/bedrock/analytics/data/54c2c347c3624745bacfec582a2997dc/031fc8522616494395c75aa6e42156ee/',\n",
       " 'src_id': '54c2c347c3624745bacfec582a2997dc'}"
      ]
     },
     "execution_count": 33,
     "metadata": {},
     "output_type": "execute_result"
    }
   ],
   "source": [
    "analytic_id = \"opals.select-from-dataframe.SelectByCondition.SelectByCondition\"\n",
    "inputData = {\n",
    "    'matrix.csv': mtx,\n",
    "    'features.txt': mtx\n",
    "}\n",
    "\n",
    "paramsData = [\n",
    "    {\"attrname\":\"colname\",\"value\":\"condition\"},\n",
    "    {\"attrname\":\"comparator\",\"value\":\"==\"},\n",
    "    {\"attrname\":\"value\",\"value\":\"Static\"}\n",
    "]\n",
    "\n",
    "cooperation_exp1_static = api.run_analytic(analytic_id, mtx, 'cooperation_exp1_static', input_data=inputData, parameter_data=paramsData)\n",
    "\n",
    "cooperation_exp1_static"
   ]
  },
  {
   "cell_type": "code",
   "execution_count": 34,
   "metadata": {
    "collapsed": false
   },
   "outputs": [
    {
     "data": {
      "text/plain": [
       "{'analytic_id': 'opals.select-from-dataframe.SelectByCondition.SelectByCondition',\n",
       " 'created': '2017-09-15 15:20:01.278110',\n",
       " 'id': '521b155e3e4b4bf2bfffe6e1ea3ed1ec',\n",
       " 'name': 'cooperation_exp1_random',\n",
       " 'outputs': ['matrix.csv', 'features.txt'],\n",
       " 'parameters': [{'attrname': 'colname', 'value': 'condition'},\n",
       "  {'attrname': 'comparator', 'value': '=='},\n",
       "  {'attrname': 'value', 'value': 'Random'}],\n",
       " 'rootdir': '/opt/bedrock/analytics/data/54c2c347c3624745bacfec582a2997dc/521b155e3e4b4bf2bfffe6e1ea3ed1ec/',\n",
       " 'src_id': '54c2c347c3624745bacfec582a2997dc'}"
      ]
     },
     "execution_count": 34,
     "metadata": {},
     "output_type": "execute_result"
    }
   ],
   "source": [
    "analytic_id = \"opals.select-from-dataframe.SelectByCondition.SelectByCondition\"\n",
    "inputData = {\n",
    "    'matrix.csv': mtx,\n",
    "    'features.txt': mtx\n",
    "}\n",
    "\n",
    "paramsData = [\n",
    "    {\"attrname\":\"colname\",\"value\":\"condition\"},\n",
    "    {\"attrname\":\"comparator\",\"value\":\"==\"},\n",
    "    {\"attrname\":\"value\",\"value\":\"Random\"}\n",
    "]\n",
    "\n",
    "cooperation_exp1_random = api.run_analytic(analytic_id, mtx, 'cooperation_exp1_random', input_data=inputData, parameter_data=paramsData)\n",
    "\n",
    "cooperation_exp1_random"
   ]
  },
  {
   "cell_type": "code",
   "execution_count": 35,
   "metadata": {
    "collapsed": false
   },
   "outputs": [
    {
     "data": {
      "text/plain": [
       "{'analytic_id': 'opals.select-from-dataframe.SelectByCondition.SelectByCondition',\n",
       " 'created': '2017-09-15 15:20:07.743073',\n",
       " 'id': '4d6b17f9ebdf45f7baefbfeb4f8e54ff',\n",
       " 'name': 'cooperation_exp1_viscous',\n",
       " 'outputs': ['matrix.csv', 'features.txt'],\n",
       " 'parameters': [{'attrname': 'colname', 'value': 'condition'},\n",
       "  {'attrname': 'comparator', 'value': '=='},\n",
       "  {'attrname': 'value', 'value': 'Viscous'}],\n",
       " 'rootdir': '/opt/bedrock/analytics/data/54c2c347c3624745bacfec582a2997dc/4d6b17f9ebdf45f7baefbfeb4f8e54ff/',\n",
       " 'src_id': '54c2c347c3624745bacfec582a2997dc'}"
      ]
     },
     "execution_count": 35,
     "metadata": {},
     "output_type": "execute_result"
    }
   ],
   "source": [
    "analytic_id = \"opals.select-from-dataframe.SelectByCondition.SelectByCondition\"\n",
    "inputData = {\n",
    "    'matrix.csv': mtx,\n",
    "    'features.txt': mtx\n",
    "}\n",
    "\n",
    "paramsData = [\n",
    "    {\"attrname\":\"colname\",\"value\":\"condition\"},\n",
    "    {\"attrname\":\"comparator\",\"value\":\"==\"},\n",
    "    {\"attrname\":\"value\",\"value\":\"Viscous\"}\n",
    "]\n",
    "\n",
    "cooperation_exp1_viscous = api.run_analytic(analytic_id, mtx, 'cooperation_exp1_viscous', input_data=inputData, parameter_data=paramsData)\n",
    "\n",
    "cooperation_exp1_viscous"
   ]
  },
  {
   "cell_type": "code",
   "execution_count": 36,
   "metadata": {
    "collapsed": false
   },
   "outputs": [
    {
     "data": {
      "text/plain": [
       "{'analytic_id': 'opals.select-from-dataframe.SelectByCondition.SelectByCondition',\n",
       " 'created': '2017-09-15 15:20:14.473065',\n",
       " 'id': '120b7c2659d34b238ee2bce5253a48a5',\n",
       " 'name': 'cooperation_exp1_fluid',\n",
       " 'outputs': ['matrix.csv', 'features.txt'],\n",
       " 'parameters': [{'attrname': 'colname', 'value': 'condition'},\n",
       "  {'attrname': 'comparator', 'value': '=='},\n",
       "  {'attrname': 'value', 'value': 'Fluid'}],\n",
       " 'rootdir': '/opt/bedrock/analytics/data/54c2c347c3624745bacfec582a2997dc/120b7c2659d34b238ee2bce5253a48a5/',\n",
       " 'src_id': '54c2c347c3624745bacfec582a2997dc'}"
      ]
     },
     "execution_count": 36,
     "metadata": {},
     "output_type": "execute_result"
    }
   ],
   "source": [
    "analytic_id = \"opals.select-from-dataframe.SelectByCondition.SelectByCondition\"\n",
    "inputData = {\n",
    "    'matrix.csv': mtx,\n",
    "    'features.txt': mtx\n",
    "}\n",
    "\n",
    "paramsData = [\n",
    "    {\"attrname\":\"colname\",\"value\":\"condition\"},\n",
    "    {\"attrname\":\"comparator\",\"value\":\"==\"},\n",
    "    {\"attrname\":\"value\",\"value\":\"Fluid\"}\n",
    "]\n",
    "\n",
    "cooperation_exp1_fluid = api.run_analytic(analytic_id, mtx, 'cooperation_exp1_fluid', input_data=inputData, parameter_data=paramsData)\n",
    "\n",
    "cooperation_exp1_fluid"
   ]
  },
  {
   "cell_type": "markdown",
   "metadata": {},
   "source": [
    "## Hypothesis 4.1.1"
   ]
  },
  {
   "cell_type": "code",
   "execution_count": 39,
   "metadata": {
    "collapsed": false,
    "deletable": true,
    "editable": true
   },
   "outputs": [
    {
     "data": {
      "text/plain": [
       "{'analytic_id': 'opals.logit2.Logit2.Logit2',\n",
       " 'created': '2017-09-15 15:22:42.886299',\n",
       " 'id': '52283aed365f4dae876271d321d38247',\n",
       " 'name': 'exp1_hypothesis_4_1_1',\n",
       " 'outputs': ['matrix.csv', 'summary.csv'],\n",
       " 'parameters': [{'attrname': 'formula', 'value': 'action ~ round'},\n",
       "  {'attrname': 'family', 'value': 'binomial'},\n",
       "  {'attrname': 'clustered_rse', 'value': 'session,pid'}],\n",
       " 'rootdir': '/opt/bedrock/analytics/data/54c2c347c3624745bacfec582a2997dc/52283aed365f4dae876271d321d38247/',\n",
       " 'src_id': '54c2c347c3624745bacfec582a2997dc'}"
      ]
     },
     "execution_count": 39,
     "metadata": {},
     "output_type": "execute_result"
    }
   ],
   "source": [
    "analytic_id = \"opals.logit2.Logit2.Logit2\"\n",
    "inputData = {\n",
    "    'matrix.csv': cooperation_exp1_static,\n",
    "    'features.txt': cooperation_exp1_static\n",
    "}\n",
    "\n",
    "paramsData = [\n",
    "    {\"attrname\":\"formula\",\"value\":\"action ~ round\"},\n",
    "    {\"attrname\":\"family\",\"value\":\"binomial\"},\n",
    "    {\"attrname\":\"clustered_rse\",\"value\":\"session,pid\"}\n",
    "]\n",
    "\n",
    "hyp_4_1_1 = api.run_analytic(analytic_id, mtx, 'exp1_hypothesis_4_1_1', input_data=inputData, parameter_data=paramsData)\n",
    "\n",
    "hyp_4_1_1"
   ]
  },
  {
   "cell_type": "markdown",
   "metadata": {},
   "source": [
    "### Visualize the output of the analysis\n",
    "\n",
    "Here the output of the analysis is downloaded and from here can be visualized and exported"
   ]
  },
  {
   "cell_type": "code",
   "execution_count": 41,
   "metadata": {
    "collapsed": false,
    "deletable": true,
    "editable": true
   },
   "outputs": [
    {
     "data": {
      "text/html": [
       "<div>\n",
       "<table border=\"1\" class=\"dataframe\">\n",
       "  <thead>\n",
       "    <tr style=\"text-align: right;\">\n",
       "      <th></th>\n",
       "      <th>0</th>\n",
       "      <th>1</th>\n",
       "      <th>2</th>\n",
       "      <th>3</th>\n",
       "      <th>4</th>\n",
       "      <th>5</th>\n",
       "      <th>6</th>\n",
       "    </tr>\n",
       "  </thead>\n",
       "  <tbody>\n",
       "    <tr>\n",
       "      <th>0</th>\n",
       "      <td>NaN</td>\n",
       "      <td>Coef.</td>\n",
       "      <td>Std.Err.</td>\n",
       "      <td>z</td>\n",
       "      <td>P&gt;|z|</td>\n",
       "      <td>[0.025</td>\n",
       "      <td>0.975]</td>\n",
       "    </tr>\n",
       "    <tr>\n",
       "      <th>1</th>\n",
       "      <td>Intercept</td>\n",
       "      <td>0.661937181574</td>\n",
       "      <td>0.195661719654</td>\n",
       "      <td>3.38306942588</td>\n",
       "      <td>0.000716805093876</td>\n",
       "      <td>0.2784472579</td>\n",
       "      <td>1.04542710525</td>\n",
       "    </tr>\n",
       "    <tr>\n",
       "      <th>2</th>\n",
       "      <td>round</td>\n",
       "      <td>-0.186475503388</td>\n",
       "      <td>0.0363630888409</td>\n",
       "      <td>-5.12815355714</td>\n",
       "      <td>2.92597743001e-07</td>\n",
       "      <td>-0.257745847883</td>\n",
       "      <td>-0.115205158893</td>\n",
       "    </tr>\n",
       "  </tbody>\n",
       "</table>\n",
       "</div>"
      ],
      "text/plain": [
       "           0                1                2               3  \\\n",
       "0        NaN            Coef.         Std.Err.               z   \n",
       "1  Intercept   0.661937181574   0.195661719654   3.38306942588   \n",
       "2      round  -0.186475503388  0.0363630888409  -5.12815355714   \n",
       "\n",
       "                   4                5                6  \n",
       "0              P>|z|           [0.025           0.975]  \n",
       "1  0.000716805093876     0.2784472579    1.04542710525  \n",
       "2  2.92597743001e-07  -0.257745847883  -0.115205158893  "
      ]
     },
     "execution_count": 41,
     "metadata": {},
     "output_type": "execute_result"
    }
   ],
   "source": [
    "coef_table = api.download_results_matrix(hyp_4_1_1['src_id'], hyp_4_1_1['id'], 'matrix.csv')\n",
    "coef_table"
   ]
  },
  {
   "cell_type": "code",
   "execution_count": 42,
   "metadata": {
    "collapsed": false
   },
   "outputs": [
    {
     "data": {
      "text/html": [
       "<div>\n",
       "<table border=\"1\" class=\"dataframe\">\n",
       "  <thead>\n",
       "    <tr style=\"text-align: right;\">\n",
       "      <th></th>\n",
       "      <th>0</th>\n",
       "      <th>1</th>\n",
       "    </tr>\n",
       "  </thead>\n",
       "  <tbody>\n",
       "    <tr>\n",
       "      <th>0</th>\n",
       "      <td>AIC</td>\n",
       "      <td>1340.369608</td>\n",
       "    </tr>\n",
       "    <tr>\n",
       "      <th>1</th>\n",
       "      <td>deviance</td>\n",
       "      <td>1336.369608</td>\n",
       "    </tr>\n",
       "    <tr>\n",
       "      <th>2</th>\n",
       "      <td>peasron_chi2</td>\n",
       "      <td>1007.692219</td>\n",
       "    </tr>\n",
       "  </tbody>\n",
       "</table>\n",
       "</div>"
      ],
      "text/plain": [
       "              0            1\n",
       "0           AIC  1340.369608\n",
       "1      deviance  1336.369608\n",
       "2  peasron_chi2  1007.692219"
      ]
     },
     "execution_count": 42,
     "metadata": {},
     "output_type": "execute_result"
    }
   ],
   "source": [
    "summary_table = api.download_results_matrix(hyp_4_1_1['src_id'], hyp_4_1_1['id'], 'summary.csv')\n",
    "summary_table"
   ]
  },
  {
   "cell_type": "code",
   "execution_count": null,
   "metadata": {
    "collapsed": true
   },
   "outputs": [],
   "source": []
  },
  {
   "cell_type": "markdown",
   "metadata": {},
   "source": [
    "# EVERYTHING BELOW HERE IS LEFTOVER FROM PREV EXAMPLE AND NOT YET READY"
   ]
  },
  {
   "cell_type": "markdown",
   "metadata": {},
   "source": [
    "## Apply method to complete Rand2011 Analysis\n",
    "\n",
    "The following cells replicate the other analysis pieces from the Rand2011 study"
   ]
  },
  {
   "cell_type": "markdown",
   "metadata": {},
   "source": [
    "### Summarize decision grouped on condition and round_num"
   ]
  },
  {
   "cell_type": "code",
   "execution_count": null,
   "metadata": {
    "collapsed": false
   },
   "outputs": [],
   "source": [
    "analytic_id = \"opals.summarize.Summarize.Summarize\"\n",
    "inputData = {\n",
    "    'matrix.csv': mtx,\n",
    "    'features.txt': mtx\n",
    "}\n",
    "\n",
    "paramsData = [\n",
    "    {\"attrname\":\"groupby\",\"value\":\"condition,round_num\"},\n",
    "    {\"attrname\":\"columns\",\"value\":\"decision0d1c\"}\n",
    "]\n",
    "\n",
    "base_mtx = api.get_matrix_metadata('Rand2011','rand_mtx')\n",
    "\n",
    "summary_mtx = api.run_analytic(analytic_id, base_mtx,'summarize_grouped', input_data=inputData, parameter_data=paramsData)\n",
    "output = api.download_results_matrix(base_mtx['id'], summary_mtx['id'], 'matrix.csv')\n",
    "output"
   ]
  },
  {
   "cell_type": "markdown",
   "metadata": {},
   "source": [
    "### Compare round_num effect on decision"
   ]
  },
  {
   "cell_type": "code",
   "execution_count": null,
   "metadata": {
    "collapsed": false
   },
   "outputs": [],
   "source": [
    "analytic_id = \"opals.logit2.Logit2.Logit2\"\n",
    "inputData = {\n",
    "    'matrix.csv': base_mtx,\n",
    "    'features.txt': base_mtx\n",
    "}\n",
    "\n",
    "paramsData = [\n",
    "    {\"attrname\":\"formula\",\"value\":\"decision0d1c ~ round_num\"},\n",
    "    {\"attrname\":\"family\",\"value\":\"binomial\"},\n",
    "    {\"attrname\":\"clustered_rse\",\"value\":\"sessionnum,playerid\"}\n",
    "]\n",
    "\n",
    "result_mtx = api.run_analytic(analytic_id, base_mtx, 'rand_logit2_step1', input_data=inputData, parameter_data=paramsData)\n",
    "coef_table = api.download_results_matrix(base_mtx['id'], result_mtx['id'], 'matrix.csv')\n",
    "coef_table"
   ]
  },
  {
   "cell_type": "code",
   "execution_count": null,
   "metadata": {
    "collapsed": false
   },
   "outputs": [],
   "source": [
    "summary_table = api.download_results_matrix(result_mtx['src_id'], result_mtx['id'], 'summary.csv')\n",
    "summary_table"
   ]
  },
  {
   "cell_type": "markdown",
   "metadata": {},
   "source": [
    "### Consider only num_neighbors > 0"
   ]
  },
  {
   "cell_type": "code",
   "execution_count": null,
   "metadata": {
    "collapsed": false
   },
   "outputs": [],
   "source": [
    "analytic_id = \"opals.select-from-dataframe.SelectByCondition.SelectByCondition\"\n",
    "inputData = {\n",
    "    'matrix.csv': base_mtx,\n",
    "    'features.txt': base_mtx\n",
    "}\n",
    "\n",
    "paramsData = [\n",
    "    {\"attrname\":\"colname\",\"value\":\"num_neighbors\"},\n",
    "    {\"attrname\":\"comparator\",\"value\":\">\"},\n",
    "    {\"attrname\":\"value\",\"value\":\"0\"}\n",
    "]\n",
    "\n",
    "filtered_mtx = api.run_analytic(analytic_id, base_mtx, 'rand_has_neighbors', input_data=inputData, parameter_data=paramsData)"
   ]
  },
  {
   "cell_type": "markdown",
   "metadata": {},
   "source": [
    "#### Summarize on filtered matrix"
   ]
  },
  {
   "cell_type": "code",
   "execution_count": null,
   "metadata": {
    "collapsed": false
   },
   "outputs": [],
   "source": [
    "analytic_id = \"opals.summarize.Summarize.Summarize\"\n",
    "inputData = {\n",
    "    'matrix.csv': filtered_mtx,\n",
    "    'features.txt': filtered_mtx\n",
    "}\n",
    "\n",
    "paramsData = [\n",
    "    {\"attrname\":\"groupby\",\"value\":\"condition,round_num\"},\n",
    "    {\"attrname\":\"columns\",\"value\":\"decision0d1c\"}\n",
    "]\n",
    "\n",
    "summary_mtx = api.run_analytic(analytic_id, filtered_mtx,'summarize_grouped', input_data=inputData, parameter_data=paramsData)\n",
    "output = api.download_results_matrix(base_mtx['id'], summary_mtx['id'], 'matrix.csv')\n",
    "output"
   ]
  },
  {
   "cell_type": "markdown",
   "metadata": {},
   "source": [
    "#### Compare round_num effect on decision only when there are neighbors"
   ]
  },
  {
   "cell_type": "code",
   "execution_count": null,
   "metadata": {
    "collapsed": false
   },
   "outputs": [],
   "source": [
    "analytic_id = \"opals.logit2.Logit2.Logit2\"\n",
    "inputData = {\n",
    "    'matrix.csv': filtered_mtx,\n",
    "    'features.txt': filtered_mtx\n",
    "}\n",
    "\n",
    "paramsData = [\n",
    "    {\"attrname\":\"formula\",\"value\":\"decision0d1c ~ round_num\"},\n",
    "    {\"attrname\":\"family\",\"value\":\"binomial\"},\n",
    "    {\"attrname\":\"clustered_rse\",\"value\":\"sessionnum,playerid\"}\n",
    "]\n",
    "\n",
    "result_mtx = api.run_analytic(analytic_id, filtered_mtx, 'rand_logit2_step2', input_data=inputData, parameter_data=paramsData)\n",
    "coef_table = api.download_results_matrix(base_mtx['id'], result_mtx['id'], 'matrix.csv')\n",
    "coef_table"
   ]
  },
  {
   "cell_type": "code",
   "execution_count": null,
   "metadata": {
    "collapsed": false
   },
   "outputs": [],
   "source": [
    "summary_table = api.download_results_matrix(result_mtx['src_id'], result_mtx['id'], 'summary.csv')\n",
    "summary_table"
   ]
  },
  {
   "cell_type": "markdown",
   "metadata": {},
   "source": [
    "## Compare effect of round_num and Fluid\n",
    "\n",
    "Look at the effect the round number an if the game is Fluid."
   ]
  },
  {
   "cell_type": "code",
   "execution_count": null,
   "metadata": {
    "collapsed": false
   },
   "outputs": [],
   "source": [
    "analytic_id = \"opals.logit2.Logit2.Logit2\"\n",
    "inputData = {\n",
    "    'matrix.csv': base_mtx,\n",
    "    'features.txt': base_mtx\n",
    "}\n",
    "\n",
    "paramsData = [\n",
    "    {\"attrname\":\"formula\",\"value\":\"decision0d1c ~ fluid_dummy*round_num\"},\n",
    "    {\"attrname\":\"family\",\"value\":\"binomial\"},\n",
    "    {\"attrname\":\"clustered_rse\",\"value\":\"sessionnum,playerid\"}\n",
    "]\n",
    "\n",
    "result_mtx = api.run_analytic(analytic_id, base_mtx, 'rand_logit2_step4', input_data=inputData, parameter_data=paramsData)\n",
    "coef_table = api.download_results_matrix(base_mtx['id'], result_mtx['id'], 'matrix.csv')\n",
    "coef_table"
   ]
  },
  {
   "cell_type": "code",
   "execution_count": null,
   "metadata": {
    "collapsed": false
   },
   "outputs": [],
   "source": [
    "summary_table = api.download_results_matrix(result_mtx['src_id'], result_mtx['id'], 'summary.csv')\n",
    "summary_table"
   ]
  },
  {
   "cell_type": "markdown",
   "metadata": {},
   "source": [
    "## Condition effect on decision for Round >= 7"
   ]
  },
  {
   "cell_type": "code",
   "execution_count": null,
   "metadata": {
    "collapsed": false
   },
   "outputs": [],
   "source": [
    "analytic_id = \"opals.select-from-dataframe.SelectByCondition.SelectByCondition\"\n",
    "inputData = {\n",
    "    'matrix.csv': base_mtx,\n",
    "    'features.txt': base_mtx\n",
    "}\n",
    "\n",
    "paramsData = [\n",
    "    {\"attrname\":\"colname\",\"value\":\"round_num\"},\n",
    "    {\"attrname\":\"comparator\",\"value\":\">=\"},\n",
    "    {\"attrname\":\"value\",\"value\":\"7\"}\n",
    "]\n",
    "\n",
    "filtered_mtx = api.run_analytic(analytic_id, base_mtx, 'rand_round7', input_data=inputData, parameter_data=paramsData)"
   ]
  },
  {
   "cell_type": "code",
   "execution_count": null,
   "metadata": {
    "collapsed": false
   },
   "outputs": [],
   "source": [
    "analytic_id = \"opals.logit2.Logit2.Logit2\"\n",
    "inputData = {\n",
    "    'matrix.csv': filtered_mtx,\n",
    "    'features.txt': filtered_mtx\n",
    "}\n",
    "\n",
    "paramsData = [\n",
    "    {\"attrname\":\"formula\",\"value\":\"decision0d1c ~ condition\"},\n",
    "    {\"attrname\":\"family\",\"value\":\"binomial\"},\n",
    "    {\"attrname\":\"clustered_rse\",\"value\":\"sessionnum,playerid\"}\n",
    "]\n",
    "\n",
    "result_mtx = api.run_analytic(analytic_id, filtered_mtx, 'rand_logit2_step5', input_data=inputData, parameter_data=paramsData)\n",
    "coef_table = api.download_results_matrix(base_mtx['id'], result_mtx['id'], 'matrix.csv')\n",
    "coef_table"
   ]
  },
  {
   "cell_type": "code",
   "execution_count": null,
   "metadata": {
    "collapsed": false
   },
   "outputs": [],
   "source": [
    "summary_table = api.download_results_matrix(result_mtx['src_id'], result_mtx['id'], 'summary.csv')\n",
    "summary_table"
   ]
  },
  {
   "cell_type": "markdown",
   "metadata": {},
   "source": [
    "## Fluid Effect on decision for Round >= 7"
   ]
  },
  {
   "cell_type": "code",
   "execution_count": null,
   "metadata": {
    "collapsed": false
   },
   "outputs": [],
   "source": [
    "analytic_id = \"opals.logit2.Logit2.Logit2\"\n",
    "inputData = {\n",
    "    'matrix.csv': filtered_mtx,\n",
    "    'features.txt': filtered_mtx\n",
    "}\n",
    "\n",
    "paramsData = [\n",
    "    {\"attrname\":\"formula\",\"value\":\"decision0d1c ~ C(fluid_dummy)\"},\n",
    "    {\"attrname\":\"family\",\"value\":\"binomial\"},\n",
    "    {\"attrname\":\"clustered_rse\",\"value\":\"sessionnum,playerid\"}\n",
    "]\n",
    "\n",
    "result_mtx = api.run_analytic(analytic_id, filtered_mtx, 'rand_logit2_step6', input_data=inputData, parameter_data=paramsData)\n",
    "coef_table = api.download_results_matrix(base_mtx['id'], result_mtx['id'], 'matrix.csv')\n",
    "coef_table"
   ]
  },
  {
   "cell_type": "code",
   "execution_count": null,
   "metadata": {
    "collapsed": false
   },
   "outputs": [],
   "source": [
    "summary_table = api.download_results_matrix(result_mtx['src_id'], result_mtx['id'], 'summary.csv')\n",
    "summary_table"
   ]
  },
  {
   "cell_type": "markdown",
   "metadata": {},
   "source": [
    "## Relevel on Random and Compare condition effect on decision"
   ]
  },
  {
   "cell_type": "code",
   "execution_count": null,
   "metadata": {
    "collapsed": false
   },
   "outputs": [],
   "source": [
    "analytic_id = \"opals.logit2.Logit2.Logit2\"\n",
    "inputData = {\n",
    "    'matrix.csv': base_mtx,\n",
    "    'features.txt': base_mtx\n",
    "}\n",
    "\n",
    "paramsData = [\n",
    "    {\"attrname\":\"formula\",\"value\":\"decision0d1c ~ C(condition, Treatment(reference='Random'))\"},\n",
    "    {\"attrname\":\"family\",\"value\":\"binomial\"},\n",
    "    {\"attrname\":\"clustered_rse\",\"value\":\"sessionnum,playerid\"}\n",
    "]\n",
    "\n",
    "result_mtx = api.run_analytic(analytic_id, base_mtx, 'rand_logit2_step7', input_data=inputData, parameter_data=paramsData)\n",
    "coef_table = api.download_results_matrix(base_mtx['id'], result_mtx['id'], 'matrix.csv')\n",
    "pandas.set_option('display.max_colwidth', -1)\n",
    "coef_table"
   ]
  },
  {
   "cell_type": "code",
   "execution_count": null,
   "metadata": {
    "collapsed": false
   },
   "outputs": [],
   "source": [
    "summary_table = api.download_results_matrix(result_mtx['src_id'], result_mtx['id'], 'summary.csv')\n",
    "summary_table"
   ]
  },
  {
   "cell_type": "markdown",
   "metadata": {},
   "source": [
    "## Relevel on Static and Compare condition effect on decision"
   ]
  },
  {
   "cell_type": "code",
   "execution_count": null,
   "metadata": {
    "collapsed": false
   },
   "outputs": [],
   "source": [
    "analytic_id = \"opals.logit2.Logit2.Logit2\"\n",
    "inputData = {\n",
    "    'matrix.csv': base_mtx,\n",
    "    'features.txt': base_mtx\n",
    "}\n",
    "\n",
    "paramsData = [\n",
    "    {\"attrname\":\"formula\",\"value\":\"decision0d1c ~ C(condition, Treatment(reference='Static'))\"},\n",
    "    {\"attrname\":\"family\",\"value\":\"binomial\"},\n",
    "    {\"attrname\":\"clustered_rse\",\"value\":\"sessionnum,playerid\"}\n",
    "]\n",
    "\n",
    "result_mtx = api.run_analytic(analytic_id, base_mtx, 'rand_logit2_step8', input_data=inputData, parameter_data=paramsData)\n",
    "coef_table = api.download_results_matrix(base_mtx['id'], result_mtx['id'], 'matrix.csv')\n",
    "pandas.set_option('display.max_colwidth', -1)\n",
    "coef_table"
   ]
  },
  {
   "cell_type": "code",
   "execution_count": null,
   "metadata": {
    "collapsed": false
   },
   "outputs": [],
   "source": [
    "summary_table = api.download_results_matrix(result_mtx['src_id'], result_mtx['id'], 'summary.csv')\n",
    "summary_table"
   ]
  },
  {
   "cell_type": "markdown",
   "metadata": {},
   "source": [
    "## Relevel on Random and round_num >= 7"
   ]
  },
  {
   "cell_type": "code",
   "execution_count": null,
   "metadata": {
    "collapsed": false
   },
   "outputs": [],
   "source": [
    "analytic_id = \"opals.logit2.Logit2.Logit2\"\n",
    "inputData = {\n",
    "    'matrix.csv': filtered_mtx,\n",
    "    'features.txt': filtered_mtx\n",
    "}\n",
    "\n",
    "paramsData = [\n",
    "    {\"attrname\":\"formula\",\"value\":\"decision0d1c ~ C(condition, Treatment(reference='Random'))\"},\n",
    "    {\"attrname\":\"family\",\"value\":\"binomial\"},\n",
    "    {\"attrname\":\"clustered_rse\",\"value\":\"sessionnum,playerid\"}\n",
    "]\n",
    "\n",
    "result_mtx = api.run_analytic(analytic_id, filtered_mtx, 'rand_logit2_step9', input_data=inputData, parameter_data=paramsData)\n",
    "coef_table = api.download_results_matrix(base_mtx['id'], result_mtx['id'], 'matrix.csv')\n",
    "coef_table"
   ]
  },
  {
   "cell_type": "code",
   "execution_count": null,
   "metadata": {
    "collapsed": false
   },
   "outputs": [],
   "source": [
    "summary_table = api.download_results_matrix(result_mtx['src_id'], result_mtx['id'], 'summary.csv')\n",
    "summary_table"
   ]
  },
  {
   "cell_type": "markdown",
   "metadata": {},
   "source": [
    "## Relevel on Static and round_num >= 7"
   ]
  },
  {
   "cell_type": "code",
   "execution_count": null,
   "metadata": {
    "collapsed": false
   },
   "outputs": [],
   "source": [
    "analytic_id = \"opals.logit2.Logit2.Logit2\"\n",
    "inputData = {\n",
    "    'matrix.csv': filtered_mtx,\n",
    "    'features.txt': filtered_mtx\n",
    "}\n",
    "\n",
    "paramsData = [\n",
    "    {\"attrname\":\"formula\",\"value\":\"decision0d1c ~ C(condition, Treatment(reference='Static'))\"},\n",
    "    {\"attrname\":\"family\",\"value\":\"binomial\"},\n",
    "    {\"attrname\":\"clustered_rse\",\"value\":\"sessionnum,playerid\"}\n",
    "]\n",
    "\n",
    "result_mtx = api.run_analytic(analytic_id, filtered_mtx, 'rand_logit2_step10', input_data=inputData, parameter_data=paramsData)\n",
    "coef_table = api.download_results_matrix(base_mtx['id'], result_mtx['id'], 'matrix.csv')\n",
    "coef_table"
   ]
  },
  {
   "cell_type": "code",
   "execution_count": null,
   "metadata": {
    "collapsed": false
   },
   "outputs": [],
   "source": [
    "summary_table = api.download_results_matrix(result_mtx['src_id'], result_mtx['id'], 'summary.csv')\n",
    "summary_table"
   ]
  },
  {
   "cell_type": "markdown",
   "metadata": {},
   "source": [
    "## Subset on Fluid Condition and look at effect of num_neighbors on decision"
   ]
  },
  {
   "cell_type": "code",
   "execution_count": null,
   "metadata": {
    "collapsed": false
   },
   "outputs": [],
   "source": [
    "analytic_id = \"opals.select-from-dataframe.SelectByCondition.SelectByCondition\"\n",
    "inputData = {\n",
    "    'matrix.csv': base_mtx,\n",
    "    'features.txt': base_mtx\n",
    "}\n",
    "\n",
    "paramsData = [\n",
    "    {\"attrname\":\"colname\",\"value\":\"condition\"},\n",
    "    {\"attrname\":\"comparator\",\"value\":\"==\"},\n",
    "    {\"attrname\":\"value\",\"value\":\"Fluid\"}\n",
    "]\n",
    "\n",
    "filtered_mtx = api.run_analytic(analytic_id, base_mtx, 'rand_fluid_only', input_data=inputData, parameter_data=paramsData)"
   ]
  },
  {
   "cell_type": "code",
   "execution_count": null,
   "metadata": {
    "collapsed": false
   },
   "outputs": [],
   "source": [
    "analytic_id = \"opals.logit2.Logit2.Logit2\"\n",
    "inputData = {\n",
    "    'matrix.csv': filtered_mtx,\n",
    "    'features.txt': filtered_mtx\n",
    "}\n",
    "\n",
    "paramsData = [\n",
    "    {\"attrname\":\"formula\",\"value\":\"decision0d1c ~ C(num_neighbors)\"},\n",
    "    {\"attrname\":\"family\",\"value\":\"binomial\"},\n",
    "    {\"attrname\":\"clustered_rse\",\"value\":\"sessionnum,playerid\"}\n",
    "]\n",
    "\n",
    "result_mtx = api.run_analytic(analytic_id, filtered_mtx, 'rand_logit2_step11', input_data=inputData, parameter_data=paramsData)\n",
    "coef_table = api.download_results_matrix(base_mtx['id'], result_mtx['id'], 'matrix.csv')\n",
    "coef_table"
   ]
  },
  {
   "cell_type": "code",
   "execution_count": null,
   "metadata": {
    "collapsed": false
   },
   "outputs": [],
   "source": [
    "summary_table = api.download_results_matrix(result_mtx['src_id'], result_mtx['id'], 'summary.csv')\n",
    "summary_table"
   ]
  },
  {
   "cell_type": "code",
   "execution_count": null,
   "metadata": {
    "collapsed": true
   },
   "outputs": [],
   "source": []
  }
 ],
 "metadata": {
  "kernelspec": {
   "display_name": "Python 3",
   "language": "python",
   "name": "python3"
  },
  "language_info": {
   "codemirror_mode": {
    "name": "ipython",
    "version": 3
   },
   "file_extension": ".py",
   "mimetype": "text/x-python",
   "name": "python",
   "nbconvert_exporter": "python",
   "pygments_lexer": "ipython3",
   "version": "3.5.2"
  }
 },
 "nbformat": 4,
 "nbformat_minor": 2
}
